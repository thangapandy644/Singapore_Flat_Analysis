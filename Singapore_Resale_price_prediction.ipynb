{
 "cells": [
  {
   "cell_type": "code",
   "execution_count": 1,
   "id": "9590373e",
   "metadata": {},
   "outputs": [],
   "source": [
    "import pandas as pd\n",
    "import numpy as np\n"
   ]
  },
  {
   "cell_type": "code",
   "execution_count": 2,
   "id": "0daf65f2",
   "metadata": {},
   "outputs": [],
   "source": [
    "df1 = pd.read_csv('C:\\Singapore_resale\\ResaleFlatPricesBasedonApprovalDate19901999.csv')\n",
    "df2 = pd.read_csv('C:\\Singapore_resale\\ResaleFlatPricesBasedonApprovalDate2000Feb2012.csv')\n",
    "df3 = pd.read_csv('C:\\Singapore_resale\\ResaleFlatPricesBasedonRegistrationDateFromMar2012toDec2014.csv')\n",
    "df4 = pd.read_csv('C:\\Singapore_resale\\ResaleFlatPricesBasedonRegistrationDateFromJan2015toDec2016.csv')\n",
    "df5 = pd.read_csv('C:\\Singapore_resale\\ResaleflatpricesbasedonregistrationdatefromJan2017onwards.csv')"
   ]
  },
  {
   "cell_type": "code",
   "execution_count": 3,
   "id": "cdcdf904",
   "metadata": {},
   "outputs": [
    {
     "data": {
      "text/html": [
       "<div>\n",
       "<style scoped>\n",
       "    .dataframe tbody tr th:only-of-type {\n",
       "        vertical-align: middle;\n",
       "    }\n",
       "\n",
       "    .dataframe tbody tr th {\n",
       "        vertical-align: top;\n",
       "    }\n",
       "\n",
       "    .dataframe thead th {\n",
       "        text-align: right;\n",
       "    }\n",
       "</style>\n",
       "<table border=\"1\" class=\"dataframe\">\n",
       "  <thead>\n",
       "    <tr style=\"text-align: right;\">\n",
       "      <th></th>\n",
       "      <th>month</th>\n",
       "      <th>town</th>\n",
       "      <th>flat_type</th>\n",
       "      <th>block</th>\n",
       "      <th>street_name</th>\n",
       "      <th>storey_range</th>\n",
       "      <th>floor_area_sqm</th>\n",
       "      <th>flat_model</th>\n",
       "      <th>lease_commence_date</th>\n",
       "      <th>resale_price</th>\n",
       "      <th>remaining_lease</th>\n",
       "    </tr>\n",
       "  </thead>\n",
       "  <tbody>\n",
       "    <tr>\n",
       "      <th>0</th>\n",
       "      <td>1990-01</td>\n",
       "      <td>ANG MO KIO</td>\n",
       "      <td>1 ROOM</td>\n",
       "      <td>309</td>\n",
       "      <td>ANG MO KIO AVE 1</td>\n",
       "      <td>10 TO 12</td>\n",
       "      <td>31.0</td>\n",
       "      <td>IMPROVED</td>\n",
       "      <td>1977</td>\n",
       "      <td>9000.0</td>\n",
       "      <td>NaN</td>\n",
       "    </tr>\n",
       "    <tr>\n",
       "      <th>1</th>\n",
       "      <td>1990-01</td>\n",
       "      <td>ANG MO KIO</td>\n",
       "      <td>1 ROOM</td>\n",
       "      <td>309</td>\n",
       "      <td>ANG MO KIO AVE 1</td>\n",
       "      <td>04 TO 06</td>\n",
       "      <td>31.0</td>\n",
       "      <td>IMPROVED</td>\n",
       "      <td>1977</td>\n",
       "      <td>6000.0</td>\n",
       "      <td>NaN</td>\n",
       "    </tr>\n",
       "    <tr>\n",
       "      <th>2</th>\n",
       "      <td>1990-01</td>\n",
       "      <td>ANG MO KIO</td>\n",
       "      <td>1 ROOM</td>\n",
       "      <td>309</td>\n",
       "      <td>ANG MO KIO AVE 1</td>\n",
       "      <td>10 TO 12</td>\n",
       "      <td>31.0</td>\n",
       "      <td>IMPROVED</td>\n",
       "      <td>1977</td>\n",
       "      <td>8000.0</td>\n",
       "      <td>NaN</td>\n",
       "    </tr>\n",
       "    <tr>\n",
       "      <th>3</th>\n",
       "      <td>1990-01</td>\n",
       "      <td>ANG MO KIO</td>\n",
       "      <td>1 ROOM</td>\n",
       "      <td>309</td>\n",
       "      <td>ANG MO KIO AVE 1</td>\n",
       "      <td>07 TO 09</td>\n",
       "      <td>31.0</td>\n",
       "      <td>IMPROVED</td>\n",
       "      <td>1977</td>\n",
       "      <td>6000.0</td>\n",
       "      <td>NaN</td>\n",
       "    </tr>\n",
       "    <tr>\n",
       "      <th>4</th>\n",
       "      <td>1990-01</td>\n",
       "      <td>ANG MO KIO</td>\n",
       "      <td>3 ROOM</td>\n",
       "      <td>216</td>\n",
       "      <td>ANG MO KIO AVE 1</td>\n",
       "      <td>04 TO 06</td>\n",
       "      <td>73.0</td>\n",
       "      <td>NEW GENERATION</td>\n",
       "      <td>1976</td>\n",
       "      <td>47200.0</td>\n",
       "      <td>NaN</td>\n",
       "    </tr>\n",
       "    <tr>\n",
       "      <th>5</th>\n",
       "      <td>1990-01</td>\n",
       "      <td>ANG MO KIO</td>\n",
       "      <td>3 ROOM</td>\n",
       "      <td>211</td>\n",
       "      <td>ANG MO KIO AVE 3</td>\n",
       "      <td>01 TO 03</td>\n",
       "      <td>67.0</td>\n",
       "      <td>NEW GENERATION</td>\n",
       "      <td>1977</td>\n",
       "      <td>46000.0</td>\n",
       "      <td>NaN</td>\n",
       "    </tr>\n",
       "    <tr>\n",
       "      <th>6</th>\n",
       "      <td>1990-01</td>\n",
       "      <td>ANG MO KIO</td>\n",
       "      <td>3 ROOM</td>\n",
       "      <td>202</td>\n",
       "      <td>ANG MO KIO AVE 3</td>\n",
       "      <td>07 TO 09</td>\n",
       "      <td>67.0</td>\n",
       "      <td>NEW GENERATION</td>\n",
       "      <td>1977</td>\n",
       "      <td>42000.0</td>\n",
       "      <td>NaN</td>\n",
       "    </tr>\n",
       "    <tr>\n",
       "      <th>7</th>\n",
       "      <td>1990-01</td>\n",
       "      <td>ANG MO KIO</td>\n",
       "      <td>3 ROOM</td>\n",
       "      <td>235</td>\n",
       "      <td>ANG MO KIO AVE 3</td>\n",
       "      <td>10 TO 12</td>\n",
       "      <td>67.0</td>\n",
       "      <td>NEW GENERATION</td>\n",
       "      <td>1977</td>\n",
       "      <td>38000.0</td>\n",
       "      <td>NaN</td>\n",
       "    </tr>\n",
       "    <tr>\n",
       "      <th>8</th>\n",
       "      <td>1990-01</td>\n",
       "      <td>ANG MO KIO</td>\n",
       "      <td>3 ROOM</td>\n",
       "      <td>235</td>\n",
       "      <td>ANG MO KIO AVE 3</td>\n",
       "      <td>04 TO 06</td>\n",
       "      <td>67.0</td>\n",
       "      <td>NEW GENERATION</td>\n",
       "      <td>1977</td>\n",
       "      <td>40000.0</td>\n",
       "      <td>NaN</td>\n",
       "    </tr>\n",
       "    <tr>\n",
       "      <th>9</th>\n",
       "      <td>1990-01</td>\n",
       "      <td>ANG MO KIO</td>\n",
       "      <td>3 ROOM</td>\n",
       "      <td>232</td>\n",
       "      <td>ANG MO KIO AVE 3</td>\n",
       "      <td>01 TO 03</td>\n",
       "      <td>67.0</td>\n",
       "      <td>NEW GENERATION</td>\n",
       "      <td>1977</td>\n",
       "      <td>47000.0</td>\n",
       "      <td>NaN</td>\n",
       "    </tr>\n",
       "  </tbody>\n",
       "</table>\n",
       "</div>"
      ],
      "text/plain": [
       "     month        town flat_type block       street_name storey_range   \n",
       "0  1990-01  ANG MO KIO    1 ROOM   309  ANG MO KIO AVE 1     10 TO 12  \\\n",
       "1  1990-01  ANG MO KIO    1 ROOM   309  ANG MO KIO AVE 1     04 TO 06   \n",
       "2  1990-01  ANG MO KIO    1 ROOM   309  ANG MO KIO AVE 1     10 TO 12   \n",
       "3  1990-01  ANG MO KIO    1 ROOM   309  ANG MO KIO AVE 1     07 TO 09   \n",
       "4  1990-01  ANG MO KIO    3 ROOM   216  ANG MO KIO AVE 1     04 TO 06   \n",
       "5  1990-01  ANG MO KIO    3 ROOM   211  ANG MO KIO AVE 3     01 TO 03   \n",
       "6  1990-01  ANG MO KIO    3 ROOM   202  ANG MO KIO AVE 3     07 TO 09   \n",
       "7  1990-01  ANG MO KIO    3 ROOM   235  ANG MO KIO AVE 3     10 TO 12   \n",
       "8  1990-01  ANG MO KIO    3 ROOM   235  ANG MO KIO AVE 3     04 TO 06   \n",
       "9  1990-01  ANG MO KIO    3 ROOM   232  ANG MO KIO AVE 3     01 TO 03   \n",
       "\n",
       "   floor_area_sqm      flat_model  lease_commence_date  resale_price   \n",
       "0            31.0        IMPROVED                 1977        9000.0  \\\n",
       "1            31.0        IMPROVED                 1977        6000.0   \n",
       "2            31.0        IMPROVED                 1977        8000.0   \n",
       "3            31.0        IMPROVED                 1977        6000.0   \n",
       "4            73.0  NEW GENERATION                 1976       47200.0   \n",
       "5            67.0  NEW GENERATION                 1977       46000.0   \n",
       "6            67.0  NEW GENERATION                 1977       42000.0   \n",
       "7            67.0  NEW GENERATION                 1977       38000.0   \n",
       "8            67.0  NEW GENERATION                 1977       40000.0   \n",
       "9            67.0  NEW GENERATION                 1977       47000.0   \n",
       "\n",
       "  remaining_lease  \n",
       "0             NaN  \n",
       "1             NaN  \n",
       "2             NaN  \n",
       "3             NaN  \n",
       "4             NaN  \n",
       "5             NaN  \n",
       "6             NaN  \n",
       "7             NaN  \n",
       "8             NaN  \n",
       "9             NaN  "
      ]
     },
     "execution_count": 3,
     "metadata": {},
     "output_type": "execute_result"
    }
   ],
   "source": [
    "df=pd.concat([df1,df2,df3,df4,df5])\n",
    "df.head(10)"
   ]
  },
  {
   "cell_type": "code",
   "execution_count": 4,
   "id": "d9388035",
   "metadata": {},
   "outputs": [
    {
     "data": {
      "text/plain": [
       "month                       0\n",
       "town                        0\n",
       "flat_type                   0\n",
       "block                       0\n",
       "street_name                 0\n",
       "storey_range                0\n",
       "floor_area_sqm              0\n",
       "flat_model                  0\n",
       "lease_commence_date         0\n",
       "resale_price                0\n",
       "remaining_lease        709050\n",
       "dtype: int64"
      ]
     },
     "execution_count": 4,
     "metadata": {},
     "output_type": "execute_result"
    }
   ],
   "source": [
    "df.isnull().sum()"
   ]
  },
  {
   "cell_type": "code",
   "execution_count": 5,
   "id": "4c3b61fe",
   "metadata": {},
   "outputs": [],
   "source": [
    "#removing remaining lease bcoz there are lots of null values\n",
    "df=df.drop([\"remaining_lease\"],axis=1)"
   ]
  },
  {
   "cell_type": "code",
   "execution_count": 6,
   "id": "bab59108",
   "metadata": {},
   "outputs": [
    {
     "name": "stdout",
     "output_type": "stream",
     "text": [
      "<class 'pandas.core.frame.DataFrame'>\n",
      "Index: 912986 entries, 0 to 166782\n",
      "Data columns (total 10 columns):\n",
      " #   Column               Non-Null Count   Dtype  \n",
      "---  ------               --------------   -----  \n",
      " 0   month                912986 non-null  object \n",
      " 1   town                 912986 non-null  object \n",
      " 2   flat_type            912986 non-null  object \n",
      " 3   block                912986 non-null  object \n",
      " 4   street_name          912986 non-null  object \n",
      " 5   storey_range         912986 non-null  object \n",
      " 6   floor_area_sqm       912986 non-null  float64\n",
      " 7   flat_model           912986 non-null  object \n",
      " 8   lease_commence_date  912986 non-null  int64  \n",
      " 9   resale_price         912986 non-null  float64\n",
      "dtypes: float64(2), int64(1), object(7)\n",
      "memory usage: 76.6+ MB\n"
     ]
    }
   ],
   "source": [
    "df.info()"
   ]
  },
  {
   "cell_type": "code",
   "execution_count": 7,
   "id": "4a49528d",
   "metadata": {},
   "outputs": [
    {
     "data": {
      "text/plain": [
       "month                  0\n",
       "town                   0\n",
       "flat_type              0\n",
       "block                  0\n",
       "street_name            0\n",
       "storey_range           0\n",
       "floor_area_sqm         0\n",
       "flat_model             0\n",
       "lease_commence_date    0\n",
       "resale_price           0\n",
       "dtype: int64"
      ]
     },
     "execution_count": 7,
     "metadata": {},
     "output_type": "execute_result"
    }
   ],
   "source": [
    "df.isnull().sum()"
   ]
  },
  {
   "cell_type": "code",
   "execution_count": 8,
   "id": "f552d8c0",
   "metadata": {},
   "outputs": [
    {
     "data": {
      "text/plain": [
       "month                   407\n",
       "town                     27\n",
       "flat_type                 8\n",
       "block                  2695\n",
       "street_name             583\n",
       "storey_range             25\n",
       "floor_area_sqm          210\n",
       "flat_model               34\n",
       "lease_commence_date      56\n",
       "resale_price           9326\n",
       "dtype: int64"
      ]
     },
     "execution_count": 8,
     "metadata": {},
     "output_type": "execute_result"
    }
   ],
   "source": [
    "df.nunique()"
   ]
  },
  {
   "cell_type": "code",
   "execution_count": 9,
   "id": "3f93b473",
   "metadata": {},
   "outputs": [],
   "source": [
    "df[\"year\"]=df[\"month\"].apply(lambda x:(x[0:4]))                   #extracted year\n",
    "df[\"months\"]=df[\"month\"].apply(lambda x:(x[5:7]))                   #extracted month"
   ]
  },
  {
   "cell_type": "code",
   "execution_count": 10,
   "id": "c1126c4e",
   "metadata": {},
   "outputs": [],
   "source": [
    "df[\"months\"]=df[\"months\"].astype('int64')\n",
    "df[\"year\"]=df[\"year\"].astype(\"int64\")"
   ]
  },
  {
   "cell_type": "code",
   "execution_count": 11,
   "id": "44c513d9",
   "metadata": {},
   "outputs": [],
   "source": [
    "df=df.drop(['month'],axis=1)                          #dropping the original column after extracting year and month"
   ]
  },
  {
   "cell_type": "code",
   "execution_count": 12,
   "id": "02b36058",
   "metadata": {},
   "outputs": [
    {
     "data": {
      "text/plain": [
       "Index(['town', 'flat_type', 'block', 'street_name', 'storey_range',\n",
       "       'flat_model'],\n",
       "      dtype='object')"
      ]
     },
     "execution_count": 12,
     "metadata": {},
     "output_type": "execute_result"
    }
   ],
   "source": [
    "df.select_dtypes([\"object\"]).columns"
   ]
  },
  {
   "cell_type": "code",
   "execution_count": 13,
   "id": "04b9d4f2",
   "metadata": {},
   "outputs": [
    {
     "name": "stdout",
     "output_type": "stream",
     "text": [
      "['ANG MO KIO', 'BEDOK', 'BISHAN', 'BUKIT BATOK', 'BUKIT MERAH', 'BUKIT TIMAH', 'CENTRAL AREA', 'CHOA CHU KANG', 'CLEMENTI', 'GEYLANG', 'HOUGANG', 'JURONG EAST', 'JURONG WEST', 'KALLANG/WHAMPOA', 'MARINE PARADE', 'QUEENSTOWN', 'SENGKANG', 'SERANGOON', 'TAMPINES', 'TOA PAYOH', 'WOODLANDS', 'YISHUN', 'LIM CHU KANG', 'SEMBAWANG', 'BUKIT PANJANG', 'PASIR RIS', 'PUNGGOL']\n"
     ]
    },
    {
     "data": {
      "text/plain": [
       "27"
      ]
     },
     "execution_count": 13,
     "metadata": {},
     "output_type": "execute_result"
    }
   ],
   "source": [
    "town=[]\n",
    "for i in (df[\"town\"].unique()):\n",
    "    town.append(i)\n",
    "print(town)\n",
    "len(town)"
   ]
  },
  {
   "cell_type": "code",
   "execution_count": 14,
   "id": "dd547a5c",
   "metadata": {},
   "outputs": [
    {
     "name": "stdout",
     "output_type": "stream",
     "text": [
      "['1 ROOM', '3 ROOM', '4 ROOM', '5 ROOM', '2 ROOM', 'EXECUTIVE', 'MULTI GENERATION', 'MULTI-GENERATION']\n"
     ]
    }
   ],
   "source": [
    "flat_type=[]\n",
    "for i in (df[\"flat_type\"].unique()):\n",
    "    flat_type.append(i)\n",
    "print(flat_type)"
   ]
  },
  {
   "cell_type": "code",
   "execution_count": 15,
   "id": "31ceb6c7",
   "metadata": {},
   "outputs": [
    {
     "name": "stdout",
     "output_type": "stream",
     "text": [
      "['10 TO 12', '04 TO 06', '07 TO 09', '01 TO 03', '13 TO 15', '19 TO 21', '16 TO 18', '25 TO 27', '22 TO 24', '28 TO 30', '31 TO 33', '40 TO 42', '37 TO 39', '34 TO 36', '06 TO 10', '01 TO 05', '11 TO 15', '16 TO 20', '21 TO 25', '26 TO 30', '36 TO 40', '31 TO 35', '46 TO 48', '43 TO 45', '49 TO 51']\n"
     ]
    }
   ],
   "source": [
    "storey_range=[]\n",
    "for i in (df[\"storey_range\"].unique()):\n",
    "    storey_range.append(i)\n",
    "print(storey_range)"
   ]
  },
  {
   "cell_type": "code",
   "execution_count": 16,
   "id": "fc53f090",
   "metadata": {},
   "outputs": [
    {
     "name": "stdout",
     "output_type": "stream",
     "text": [
      "['IMPROVED', 'NEW GENERATION', 'MODEL A', 'STANDARD', 'SIMPLIFIED', 'MODEL A-MAISONETTE', 'APARTMENT', 'MAISONETTE', 'TERRACE', '2-ROOM', 'IMPROVED-MAISONETTE', 'MULTI GENERATION', 'PREMIUM APARTMENT', 'Improved', 'New Generation', 'Model A', 'Standard', 'Apartment', 'Simplified', 'Model A-Maisonette', 'Maisonette', 'Multi Generation', 'Adjoined flat', 'Premium Apartment', 'Terrace', 'Improved-Maisonette', 'Premium Maisonette', '2-room', 'Model A2', 'DBSS', 'Type S1', 'Type S2', 'Premium Apartment Loft', '3Gen']\n",
      "34\n"
     ]
    }
   ],
   "source": [
    "flat_model=[]\n",
    "for i in (df[\"flat_model\"].unique()):\n",
    "    flat_model.append(i)\n",
    "print(flat_model)\n",
    "print(len(flat_model))"
   ]
  },
  {
   "cell_type": "code",
   "execution_count": 17,
   "id": "f6649d38",
   "metadata": {},
   "outputs": [],
   "source": [
    "#dropping the columns as there are more unique values\n",
    "df=df.drop(['block','street_name'],axis=1)"
   ]
  },
  {
   "cell_type": "code",
   "execution_count": 18,
   "id": "1f87c8fe",
   "metadata": {},
   "outputs": [],
   "source": [
    "#replacing the values that are type incorrectly\n",
    "df[\"flat_model\"]=df[\"flat_model\"].apply(lambda x:x.replace(\"Improved\",\"IMPROVED\"))\n",
    "df[\"flat_model\"]=df[\"flat_model\"].apply(lambda x:x.replace(\"New Generation\",\"NEW GENERATION\"))\n",
    "df[\"flat_model\"]=df[\"flat_model\"].apply(lambda x:x.replace(\"Model A\",\"MODEL A\"))\n",
    "df[\"flat_model\"]=df[\"flat_model\"].apply(lambda x:x.replace(\"Standard\",\"STANDARD\"))\n",
    "df[\"flat_model\"]=df[\"flat_model\"].apply(lambda x:x.replace(\"Apartment\",\"APARTMENT\"))\n",
    "df[\"flat_model\"]=df[\"flat_model\"].apply(lambda x:x.replace(\"Simplified\",\"SIMPLIFIED\"))\n",
    "df[\"flat_model\"]=df[\"flat_model\"].apply(lambda x:x.replace(\"Maisonette\",\"MAISONETTE\"))\n",
    "df[\"flat_model\"]=df[\"flat_model\"].apply(lambda x:x.replace(\"Multi Generation\",\"MULTI GENERATION\"))\n",
    "df[\"flat_model\"]=df[\"flat_model\"].apply(lambda x:x.replace(\"Premium Apartment\",\"PREMIUM APARTMENT\"))\n",
    "df[\"flat_model\"]=df[\"flat_model\"].apply(lambda x:x.replace(\"Terrace\",\"TERRACE\"))\n",
    "df[\"flat_model\"]=df[\"flat_model\"].apply(lambda x:x.replace(\"Improved-Maisonette\",\"IMPROVED-MAISONETTE\"))\n",
    "df[\"flat_model\"]=df[\"flat_model\"].apply(lambda x:x.replace(\"2-room\",\"2-ROOM\"))"
   ]
  },
  {
   "cell_type": "code",
   "execution_count": 19,
   "id": "6465d164",
   "metadata": {},
   "outputs": [],
   "source": [
    "#converting to csv file to use it later in app development\n",
    "df.to_csv(\"singapore.csv\",index=False)"
   ]
  },
  {
   "cell_type": "code",
   "execution_count": 20,
   "id": "c9d6cf8a",
   "metadata": {},
   "outputs": [],
   "source": [
    "#encoding the categorical column Storey Range and Flat Type\n",
    "from sklearn.preprocessing import OrdinalEncoder\n",
    "encoder=OrdinalEncoder()\n",
    "df[\"storey_range\"]=encoder.fit_transform(df[[\"storey_range\"]])\n",
    "df[\"flat_type\"]=encoder.fit_transform(df[[\"flat_type\"]])"
   ]
  },
  {
   "cell_type": "code",
   "execution_count": 21,
   "id": "6ec73130",
   "metadata": {},
   "outputs": [],
   "source": [
    "#just for finding out the correlation between the features var and target var taking a new dataframe\n",
    "df1=df.iloc[:,[1,2,3,5,6,7,8]]"
   ]
  },
  {
   "cell_type": "code",
   "execution_count": 22,
   "id": "f03e145a",
   "metadata": {},
   "outputs": [
    {
     "data": {
      "text/plain": [
       "<Axes: >"
      ]
     },
     "execution_count": 22,
     "metadata": {},
     "output_type": "execute_result"
    },
    {
     "data": {
      "image/png": "[encoded data removed]",
      "text/plain": [
       "<Figure size 640x480 with 2 Axes>"
      ]
     },
     "metadata": {},
     "output_type": "display_data"
    }
   ],
   "source": [
    "import seaborn as sns\n",
    "sns.heatmap(df1.corr(),annot=True,cmap=\"Oranges\")"
   ]
  },
  {
   "cell_type": "code",
   "execution_count": 23,
   "id": "5dd0f026",
   "metadata": {},
   "outputs": [
    {
     "data": {
      "text/plain": [
       "flat_type              0.401482\n",
       "storey_range           1.092950\n",
       "floor_area_sqm         0.367743\n",
       "lease_commence_date    0.626052\n",
       "resale_price           0.921650\n",
       "year                   0.295842\n",
       "months                -0.044142\n",
       "dtype: float64"
      ]
     },
     "execution_count": 23,
     "metadata": {},
     "output_type": "execute_result"
    }
   ],
   "source": [
    "#checking the skewness\n",
    "from scipy import stats\n",
    "df1.skew()"
   ]
  },
  {
   "cell_type": "code",
   "execution_count": 24,
   "id": "f502f23d",
   "metadata": {},
   "outputs": [],
   "source": [
    "#encoding the categorical column flat model and town\n",
    "from sklearn.preprocessing import OneHotEncoder\n",
    "ohe_t=OneHotEncoder()\n",
    "ohe_t.fit(df[[\"town\"]])\n",
    "ohe1=ohe_t.fit_transform(df[[\"town\"]]).toarray()\n",
    "ohe_m=OneHotEncoder()\n",
    "ohe_m.fit(df[[\"flat_model\"]])\n",
    "ohe2=ohe_m.fit_transform(df[[\"flat_model\"]]).toarray()"
   ]
  },
  {
   "cell_type": "code",
   "execution_count": 25,
   "id": "c270d57c",
   "metadata": {},
   "outputs": [
    {
     "data": {
      "text/plain": [
       "Index(['town', 'flat_type', 'storey_range', 'floor_area_sqm', 'flat_model',\n",
       "       'lease_commence_date', 'resale_price', 'year', 'months'],\n",
       "      dtype='object')"
      ]
     },
     "execution_count": 25,
     "metadata": {},
     "output_type": "execute_result"
    }
   ],
   "source": [
    "df.columns"
   ]
  },
  {
   "cell_type": "code",
   "execution_count": 26,
   "id": "0d94819e",
   "metadata": {},
   "outputs": [],
   "source": [
    "#not including months and flat_type bcoz flat_type & floor area serves the same purpose as well as avoiding the problem of multicollinearity\n",
    "x=(df[[\"storey_range\",\"floor_area_sqm\",\"lease_commence_date\",\"year\",\"town\",\"flat_model\"]]) "
   ]
  },
  {
   "cell_type": "code",
   "execution_count": 27,
   "id": "5d59c203",
   "metadata": {},
   "outputs": [],
   "source": [
    "#independent features\n",
    "X=np.concatenate((x[[\"storey_range\",\"floor_area_sqm\",\"lease_commence_date\",\"year\"]].values,ohe1,ohe2),axis=1)"
   ]
  },
  {
   "cell_type": "code",
   "execution_count": 28,
   "id": "d690845b",
   "metadata": {},
   "outputs": [],
   "source": [
    "#target variable\n",
    "y=df[\"resale_price\"]"
   ]
  },
  {
   "cell_type": "code",
   "execution_count": 29,
   "id": "363cf93b",
   "metadata": {},
   "outputs": [],
   "source": [
    "#scaling the data \n",
    "from sklearn.preprocessing import StandardScaler\n",
    "scaler = StandardScaler()\n",
    "X = scaler.fit_transform(X)"
   ]
  },
  {
   "cell_type": "code",
   "execution_count": 30,
   "id": "139cdf81",
   "metadata": {},
   "outputs": [],
   "source": [
    "#splitting the data into training and testing \n",
    "from sklearn.model_selection import train_test_split\n",
    "X_train,X_test,y_train,y_test=train_test_split(X,y,test_size=0.20,random_state=5)"
   ]
  },
  {
   "cell_type": "code",
   "execution_count": 31,
   "id": "850b9e0c",
   "metadata": {},
   "outputs": [
    {
     "name": "stdout",
     "output_type": "stream",
     "text": [
      "Training Accuracy: 0.8307601000555931\n",
      "Testing Accuracy: 0.8310612825926205\n",
      "The RMSE score of model is: 68661.07900063778\n"
     ]
    }
   ],
   "source": [
    "#Fitting the regression model\n",
    "from sklearn.linear_model import LinearRegression\n",
    "from sklearn.metrics import r2_score,mean_squared_error\n",
    "model=LinearRegression()\n",
    "model.fit(X_train,y_train)\n",
    "y_pred=model.predict(X_test)\n",
    "print(\"Training Accuracy:\", model.score(X_train, y_train))\n",
    "print(\"Testing Accuracy:\",r2_score(y_test,y_pred))\n",
    "print('The RMSE score of model is:',mean_squared_error(y_test, y_pred, squared=False))"
   ]
  },
  {
   "cell_type": "code",
   "execution_count": 32,
   "id": "2c0c739c",
   "metadata": {},
   "outputs": [
    {
     "name": "stdout",
     "output_type": "stream",
     "text": [
      "[0.83050366 0.83157493 0.83002784 0.82857356 0.82969306 0.83147116\n",
      " 0.83077081 0.83017885 0.83123672 0.8331011 ]\n"
     ]
    }
   ],
   "source": [
    "#cross validating the linear regression model\n",
    "from sklearn.model_selection import cross_val_score\n",
    "print(cross_val_score(model,X_train,y_train,cv=10))"
   ]
  },
  {
   "cell_type": "code",
   "execution_count": 33,
   "id": "d28cfbdf",
   "metadata": {},
   "outputs": [
    {
     "name": "stdout",
     "output_type": "stream",
     "text": [
      "Training Accuracy: 0.9908242128116654\n",
      "Testing Accuracy: 0.9662102368380375\n",
      "The RMSE score of model is: 30707.08573589779\n"
     ]
    }
   ],
   "source": [
    "#Fitting the Decision Tree Model\n",
    "from sklearn.tree import DecisionTreeRegressor\n",
    "dtr = DecisionTreeRegressor()\n",
    "dtr.fit(X_train, y_train)\n",
    "y_pred = dtr.predict(X_test)\n",
    "print('Training Accuracy:',dtr.score(X_train, y_train))\n",
    "print('Testing Accuracy:',r2_score(y_test, y_pred))\n",
    "print('The RMSE score of model is:',mean_squared_error(y_test, y_pred, squared=False))"
   ]
  },
  {
   "cell_type": "code",
   "execution_count": 34,
   "id": "ad2d61af",
   "metadata": {},
   "outputs": [
    {
     "name": "stdout",
     "output_type": "stream",
     "text": [
      "[0.96571355 0.96622559 0.96529414 0.96533237 0.96574105 0.96589861\n",
      " 0.96462101 0.96501286 0.96595872 0.96630723]\n"
     ]
    }
   ],
   "source": [
    "#cross validating the decision tree regression model\n",
    "from sklearn.model_selection import cross_val_score\n",
    "print(cross_val_score(dtr,X_train,y_train,cv=10))"
   ]
  },
  {
   "cell_type": "code",
   "execution_count": 35,
   "id": "931093cb",
   "metadata": {},
   "outputs": [
    {
     "name": "stdout",
     "output_type": "stream",
     "text": [
      "Training Accuracy: 0.988631944006867\n",
      "Testing_Accuracy: 0.9732566382542049\n",
      "The RMSE score of model is: 27318.322465560133\n"
     ]
    }
   ],
   "source": [
    "#Fitting the RFR Model\n",
    "from sklearn.ensemble import RandomForestRegressor\n",
    "RFR = RandomForestRegressor(n_estimators=10)\n",
    "RFR.fit(X_train, y_train)\n",
    "y_pred = RFR.predict(X_test)\n",
    "print('Training Accuracy:',RFR.score(X_train, y_train))\n",
    "print('Testing_Accuracy:',r2_score(y_test,y_pred))\n",
    "print('The RMSE score of model is:',mean_squared_error(y_test, y_pred, squared=False))"
   ]
  },
  {
   "cell_type": "code",
   "execution_count": null,
   "id": "f5d352db",
   "metadata": {},
   "outputs": [],
   "source": [
    "#cross validating the Random forest regression model\n",
    "from sklearn.model_selection import cross_val_score\n",
    "print(cross_val_score(RFR,X_train,y_train,cv=10))"
   ]
  },
  {
   "cell_type": "code",
   "execution_count": null,
   "id": "9072ab20",
   "metadata": {},
   "outputs": [],
   "source": [
    "#Fitting the XGBOOST Regression Model\n",
    "from xgboost import XGBRegressor\n",
    "from sklearn import metrics\n",
    "XGBModel=XGBRegressor(learning_rate=0.1, n_estimators=100, objective='reg:squarederror', booster='gbtree')\n",
    "XGBModel.fit(X_train,y_train)\n",
    "y_pred=XGBModel.predict(X_test)\n",
    "print('Training accuracy:',metrics.r2_score(y_train, XGBModel.predict(X_train)))\n",
    "print('Testing accuracy:',metrics.r2_score(y_test,y_pred))\n",
    "print('The RMSE score of model is ',mean_squared_error(y_test,y_pred,squared=False))"
   ]
  },
  {
   "cell_type": "code",
   "execution_count": null,
   "id": "172f4c7d",
   "metadata": {},
   "outputs": [],
   "source": [
    "#Predicting Flat Resale price on a new input with different models\n",
    "import warnings\n",
    "warnings.filterwarnings(\"ignore\", message=\"X does not have valid feature names, but OneHotEncoder was fitted with feature names\", category=UserWarning)\n",
    "new_input = np.array([[\"04 TO 06\",73.0,\"1976\",\"2010\",\"BEDOK\",\"IMPROVED\"]])\n",
    "ordinal_encoded = encoder.fit_transform(new_input[:, [0]])\n",
    "new_sample_ohe1 = ohe_t.transform(new_input[:, [4]]).toarray()\n",
    "new_sample_ohe2 = ohe_m.transform(new_input[:, [5]]).toarray()\n",
    "new_input_concatenated = np.concatenate((ordinal_encoded, new_input[:, [1, 2, 3]], new_sample_ohe1, new_sample_ohe2), axis=1)\n",
    "new_sample1 = scaler.transform(new_input_concatenated)\n",
    "new_pred= model.predict(new_sample1)\n",
    "predicted_price= round(float(new_pred[0]), 4)\n",
    "print('Predicted price using LR Model: {}'.format(predicted_price))\n",
    "new_pred1 = dtr.predict(new_sample1)\n",
    "predicted_price1 = round(float(new_pred1[0]), 4)\n",
    "print('Predicted price using DT Model: {}'.format(predicted_price1))\n",
    "new_pred2= RFR.predict(new_sample1)\n",
    "predicted_price2 = round(float(new_pred2[0]), 4)\n",
    "print('Predicted price using Random Forest: {}'.format(predicted_price2))\n",
    "new_pred3= XGBModel.predict(new_sample1)\n",
    "predicted_price3 = round(float(new_pred3[0]), 4)\n",
    "print('Predicted price using XGBoost: {}'.format(predicted_price3))\n",
    "new_pred4= model.predict(new_sample1)\n",
    "predicted_price4= round(float(new_pred4[0]), 4)\n",
    "print('Predicted price using XGBoost: {}'.format(predicted_price4))"
   ]
  },
  {
   "cell_type": "code",
   "execution_count": null,
   "id": "959e6ec2",
   "metadata": {},
   "outputs": [],
   "source": [
    "#saving the best model using pickling\n",
    "import pickle\n",
    "with open('model.pkl', 'wb') as file:\n",
    "    pickle.dump(RFR, file)\n",
    "with open('scaler.pkl', 'wb') as f:\n",
    "    pickle.dump(scaler, f)\n",
    "with open('storey_encoder.pkl', 'wb') as f:\n",
    "    pickle.dump(encoder, f)\n",
    "with open('town_encoder.pkl', 'wb') as f:\n",
    "    pickle.dump(ohe_t, f)\n",
    "with open('flat_model_enc.pkl', 'wb') as f:\n",
    "    pickle.dump(ohe_m, f)"
   ]
  },
  {
   "cell_type": "code",
   "execution_count": null,
   "id": "3db6d684",
   "metadata": {},
   "outputs": [],
   "source": []
  },
  {
   "cell_type": "code",
   "execution_count": null,
   "id": "07c7d083",
   "metadata": {},
   "outputs": [],
   "source": []
  },
  {
   "cell_type": "code",
   "execution_count": null,
   "id": "00483027",
   "metadata": {},
   "outputs": [],
   "source": []
  }
 ],
 "metadata": {
  "kernelspec": {
   "display_name": "Python 3 (ipykernel)",
   "language": "python",
   "name": "python3"
  },
  "language_info": {
   "codemirror_mode": {
    "name": "ipython",
    "version": 3
   },
   "file_extension": ".py",
   "mimetype": "text/x-python",
   "name": "python",
   "nbconvert_exporter": "python",
   "pygments_lexer": "ipython3",
   "version": "3.11.2"
  }
 },
 "nbformat": 4,
 "nbformat_minor": 5
}
